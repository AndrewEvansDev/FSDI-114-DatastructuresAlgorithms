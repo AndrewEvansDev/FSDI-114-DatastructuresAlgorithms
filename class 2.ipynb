{
 "cells": [
  {
   "cell_type": "code",
   "execution_count": 42,
   "id": "3c437200",
   "metadata": {},
   "outputs": [],
   "source": [
    "def replace(string, target, replacement):\n",
    "    string = list(string)\n",
    "    out = \"\"\n",
    "    for i in range(len(string)):\n",
    "        if string[i] == target:\n",
    "            string[i] = replacement\n",
    "            out += string[i]\n",
    "    return \"\".join(out)"
   ]
  },
  {
   "cell_type": "code",
   "execution_count": 45,
   "id": "489063c7",
   "metadata": {},
   "outputs": [
    {
     "data": {
      "text/plain": [
       "''"
      ]
     },
     "execution_count": 45,
     "metadata": {},
     "output_type": "execute_result"
    }
   ],
   "source": [
    "mystring = \"hello everyone this is andrew\"\n",
    "replace(mystring, \" \",\"\")"
   ]
  },
  {
   "cell_type": "code",
   "execution_count": 44,
   "id": "fdccfd40",
   "metadata": {},
   "outputs": [
    {
     "ename": "SyntaxError",
     "evalue": "invalid syntax (<ipython-input-44-6950544438db>, line 3)",
     "output_type": "error",
     "traceback": [
      "\u001b[0;36m  File \u001b[0;32m\"<ipython-input-44-6950544438db>\"\u001b[0;36m, line \u001b[0;32m3\u001b[0m\n\u001b[0;31m    def__init__(self):\u001b[0m\n\u001b[0m                      ^\u001b[0m\n\u001b[0;31mSyntaxError\u001b[0m\u001b[0;31m:\u001b[0m invalid syntax\n"
     ]
    }
   ],
   "source": [
    "#Homework\n",
    "class Queue2Stacks:\n",
    "    def__init__(self):\n",
    "        self.stack1 = []\n",
    "        self.stack2 = []\n",
    "        \n",
    "    def enqueue(self, element):\n",
    "        #fill in\n",
    "        pass\n",
    "    \n",
    "    def dequeue(self):\n",
    "        #fill in\n",
    "        pass"
   ]
  },
  {
   "cell_type": "code",
   "execution_count": null,
   "id": "471016ba",
   "metadata": {},
   "outputs": [],
   "source": [
    "def test():\n",
    "    \"\"\"This should print 0,1,2,3,4\n",
    "    Note: It will print vertically\"\"\"\n",
    "    q = Queue2Stacks()\n",
    "    for i in range(5):\n",
    "        q.enqueue(i)\n",
    "    for i in range(5):\n",
    "        print(q.dequeue())"
   ]
  },
  {
   "cell_type": "code",
   "execution_count": 26,
   "id": "07b7dd4d",
   "metadata": {},
   "outputs": [],
   "source": [
    "def fact(n):\n",
    "    if n == 0:\n",
    "        return 1\n",
    "    return n*fact(n-1)"
   ]
  },
  {
   "cell_type": "code",
   "execution_count": 27,
   "id": "ebd42d8f",
   "metadata": {},
   "outputs": [
    {
     "data": {
      "text/plain": [
       "120"
      ]
     },
     "execution_count": 27,
     "metadata": {},
     "output_type": "execute_result"
    }
   ],
   "source": [
    "fact(5)"
   ]
  },
  {
   "cell_type": "code",
   "execution_count": null,
   "id": "21a5cdd8",
   "metadata": {},
   "outputs": [],
   "source": [
    "from functools import lru_cache\n",
    "@lru_cache\n",
    "\n",
    "def fib(n):\n",
    "    if n < 2:\n",
    "        return n\n",
    "    return fib(n-1) + fib(n-2)\n",
    "    "
   ]
  },
  {
   "cell_type": "code",
   "execution_count": null,
   "id": "6c56dfb7",
   "metadata": {},
   "outputs": [],
   "source": [
    "fib(100)"
   ]
  },
  {
   "cell_type": "code",
   "execution_count": null,
   "id": "5959fd53",
   "metadata": {},
   "outputs": [],
   "source": [
    "class Node:\n",
    "    def __init__(self, data):\n",
    "        self.data = data\n",
    "        self.next = None"
   ]
  },
  {
   "cell_type": "code",
   "execution_count": null,
   "id": "2faafaf6",
   "metadata": {},
   "outputs": [],
   "source": [
    "class LinkedList:\n",
    "    def __init__(self):\n",
    "        self.head = None\n",
    "        \n",
    "        self.tail = None\n",
    "        \n",
    "    def prepend(self, data):\n",
    "        self.head = new Node(data)\n",
    "        #step 1: crreate new node with data\n",
    "        new_node = Node(data)\n",
    "        #step 2: create local reference to head\n",
    "        current_head = self.head\n",
    "        #step 3: make self.head point to our new node:\n",
    "        self.head = new_node\n",
    "        #step 4: link new_node to previous head\n",
    "        new_node.next = current_head\n",
    "        \n",
    "    def append(self, data):\n",
    "        #create new node\n",
    "        new_node = Node(data)\n",
    "        #check if self.tail is None:\n",
    "        if not self.tail:\n",
    "            # start at the head of the list:\n",
    "            current_node = self.head\n",
    "            # make our way to the end of the list:\n",
    "            while (current_node.next):\n",
    "                current_node = current_node.next\n",
    "            # once we find the last node, update self.tail\n",
    "            self.tail = current_node\n",
    "        # step 3: Add new_node to self.tail.next\n",
    "        self.tail.next = new_node\n",
    "        #update the reference to tail\n",
    "        self.tail = new_node\n",
    "        \n",
    "    def insert_after(self, target, data):\n",
    "        # step 1: Create a new node from data\n",
    "        new_node = Node(data)\n",
    "        # step 2: check if target data exists at head node:\n",
    "        if self.head.data == target:\n",
    "            # store reference of next node in list to temp\n",
    "            temp = self.head.next\n",
    "            # updating the reference to the second node with new_node\n",
    "            self.head.next = new_node\n",
    "            # updating the next node after our new node to temp\n",
    "            new_node.next = temp\n",
    "        \n",
    "        else\n",
    "        # step 3: keeping track of current node, starting with head\n",
    "        current = self.head\n",
    "        #look until curent contains the data we are looking for\n",
    "        # or until current is None.\n",
    "        while (current.data != target and current != None):\n",
    "            current = current.next\n",
    "        \n",
    "        # if current is None at this point, we've traversed the entire list and\n",
    "        # not found our target, so an error is triggered\n",
    "        if current == None:\n",
    "            raise ValueError(\"Target value not here.\")\n",
    "        \n",
    "        # step 4: Keeping track of neext node after current\n",
    "        placeholder = current.next\n",
    "        # Updating next node after current\n",
    "        current.next = new_node\n",
    "        # Updating new_node's next pointer to placeholder\n",
    "        new_node.next = placeholder\n",
    "            \n",
    "    def remove(self, target):\n",
    "        #remove node if it is at the beginning(or head) of the list\n",
    "        if self.head.data == target:\n",
    "            # update the self.head reference to now point to self.head.next\n",
    "        else:\n",
    "            # remove a node from anywhere else in the list:\n",
    "            current = self.head\n",
    "            prev = None\n",
    "            while(current.data != target and current != None):\n",
    "                prev = current\n",
    "                current = current.next\n",
    "            # if current is None, we've reached end of list and didn't find target data\n",
    "            if current == None:\n",
    "                raise ValueError(\"The target value isn't in the list\")\n",
    "                \n",
    "            # update current's previous node's reference to next by setting\n",
    "            # it to point to the next node after current.\n",
    "            prev.next = current.next\n",
    "\n",
    "            if prev.next == None:\n",
    "                self.tail = prev\n",
    "        \n",
    "    def index_of(self, target):\n",
    "        # given a target, find its position in our list (integer)\n",
    "        # if it does not exist, return None or raise and exception\n",
    "        # step 1: create variable to count number of loops until we find target\n",
    "        counter = 0\n",
    "        # step 2: start at head of list\n",
    "        current = self.head\n",
    "        while(current.data != target and current != None):\n",
    "            current = current.next\n",
    "            counter += 1\n",
    "            \n",
    "        if current == None:\n",
    "            raise ValueError(\"Target value not here.\")\n",
    "        # step 3: if the previous if statement isn't triggered\n",
    "        # we have found our target node and can return counter variable\n",
    "        return counter\n",
    "    \n",
    "    def max(self):\n",
    "        num = self.head\n",
    "        high = current.data\n",
    "        while(num.next):\n",
    "            num = num.next\n",
    "            if num.data > high:\n",
    "                high = num.data\n",
    "        return high\n",
    "            \n",
    "            "
   ]
  },
  {
   "cell_type": "code",
   "execution_count": null,
   "id": "6925d822",
   "metadata": {},
   "outputs": [],
   "source": []
  }
 ],
 "metadata": {
  "kernelspec": {
   "display_name": "Python 3",
   "language": "python",
   "name": "python3"
  },
  "language_info": {
   "codemirror_mode": {
    "name": "ipython",
    "version": 3
   },
   "file_extension": ".py",
   "mimetype": "text/x-python",
   "name": "python",
   "nbconvert_exporter": "python",
   "pygments_lexer": "ipython3",
   "version": "3.9.5"
  }
 },
 "nbformat": 4,
 "nbformat_minor": 5
}
