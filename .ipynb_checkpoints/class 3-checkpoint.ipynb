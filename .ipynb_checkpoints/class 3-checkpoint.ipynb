{
 "cells": [
  {
   "cell_type": "code",
   "execution_count": 1,
   "id": "60150184",
   "metadata": {},
   "outputs": [],
   "source": [
    "class Node:\n",
    "    def __init__(self, data):\n",
    "        self.data = data\n",
    "        self.next = None\n",
    "        self.prev = None"
   ]
  },
  {
   "cell_type": "code",
   "execution_count": null,
   "id": "c03f6811",
   "metadata": {},
   "outputs": [],
   "source": [
    "class DoublyLinkedList:\n",
    "    def __init__(self):\n",
    "        self.head = None\n",
    "        self.tail = None\n",
    "        \n",
    "    def insert_after(self, target, data):\n",
    "        # Create new node with data and add it to our list after node with target data\n",
    "        # return or display an error if target node not found.\n",
    "        pass\n",
    "    \n",
    "    def insert_before(self, target, data):\n",
    "        # create a new node with data and add it to our list\n",
    "        # before a node with target data\n",
    "        # return or display an error if target node not found\n",
    "        pass\n",
    "    \n",
    "    def prepend(self, data):\n",
    "        # add a new node with data at the beginning of our list\n",
    "        # step 1: create a new node with data\n",
    "        new_node = Node(data)     # Node(next->None, prev->None)\n",
    "        # step 2: Update the next pointer to now point to the current node at self.head\n",
    "        new_node.next = self.head #Node(next->self.head, prev->None)\n",
    "        # step 3: Update the self.head reference to now point to new_node instead\n",
    "        self.head = new_node       #self.head-> \n",
    "        # step 4: if new_node.next containers a node, we need to update its prev pointer.\n",
    "        if self.head.next not None:\n",
    "            self.head.next.prev = self.head\n",
    "        if not self.tail:\n",
    "            self.set_tail()\n",
    "    \n",
    "    def append(self, data):\n",
    "        # add a new node with data to the tail of our list\n",
    "        new_node = Node(data)\n",
    "        if not self.head:\n",
    "            self.head = new_node\n",
    "            self.tail = new_node\n",
    "        else:    \n",
    "            if not self.tail:\n",
    "                self.set_tail()\n",
    "            \n",
    "        new_node.prev = self.tail\n",
    "        self.tail.next = new_node\n",
    "        self.tail = new_node\n",
    "    \n",
    "    def set_tail(self):\n",
    "            current_node = self.head\n",
    "            while(current_node.next):\n",
    "                current_node = current_node.next\n",
    "            self.tail = current_node\n",
    "    \n",
    "    def index_of(self, target):\n",
    "        #return the index of the node with target data\n",
    "        # display or return an error message if not found\n",
    "        pass\n",
    "        \n",
    "    def remove(self, target):\n",
    "        # find the node with target data\n",
    "        #  \n",
    "        pass\n",
    "        \n"
   ]
  }
 ],
 "metadata": {
  "kernelspec": {
   "display_name": "Python 3",
   "language": "python",
   "name": "python3"
  },
  "language_info": {
   "codemirror_mode": {
    "name": "ipython",
    "version": 3
   },
   "file_extension": ".py",
   "mimetype": "text/x-python",
   "name": "python",
   "nbconvert_exporter": "python",
   "pygments_lexer": "ipython3",
   "version": "3.9.5"
  }
 },
 "nbformat": 4,
 "nbformat_minor": 5
}
