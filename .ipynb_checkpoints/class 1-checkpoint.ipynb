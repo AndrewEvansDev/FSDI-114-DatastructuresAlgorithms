{
 "cells": [
  {
   "cell_type": "markdown",
   "id": "41eb3bf6",
   "metadata": {},
   "source": [
    "# Problem 1\n",
    "\n",
    "### Given two strings (string_a and string_b) lets check whether or not they are anagrams of each other given the following criteria:\n",
    "\n",
    ">Two strings are only anagrams of each other if all conditions below are met:\n",
    "> * They must be exactly the same length.\n",
    "> * They must use exactly the same characters (no more, no less).\n",
    "Example: cars and scar, heart and earth, etc."
   ]
  },
  {
   "cell_type": "code",
   "execution_count": 3,
   "id": "b106c22a",
   "metadata": {},
   "outputs": [],
   "source": [
    "def does_it_match(string_a, string_b):\n",
    "    return len(string_a) == len(string_b) and sorted(string_a) == sorted(string_b)"
   ]
  },
  {
   "cell_type": "code",
   "execution_count": 1,
   "id": "d34d9bb5",
   "metadata": {},
   "outputs": [],
   "source": [
    "def is_anagram(string_a, string_b):\n",
    "    if len(string_a) != len(string_b):\n",
    "        return False\n",
    "    char_times_a = dict()\n",
    "    char_times_b = dict()\n",
    "    for i in range(len(string_a)):\n",
    "        if string_a[i] not in char_times_a.keys():\n",
    "            char_times_a[string_a[i]] = 0\n",
    "        else:\n",
    "            char_times_a[string_a[i]] += 1\n",
    "        if string_b[i] not in char_times_b.keys():\n",
    "            char_times_b[string_b[i]] = 0\n",
    "        else:\n",
    "            char_times_b[string_b[i]] += 1\n",
    "    return char_times_a == char_times_b\n",
    "            "
   ]
  },
  {
   "cell_type": "code",
   "execution_count": 6,
   "id": "3b8f0415",
   "metadata": {
    "scrolled": false
   },
   "outputs": [
    {
     "data": {
      "text/plain": [
       "True"
      ]
     },
     "execution_count": 6,
     "metadata": {},
     "output_type": "execute_result"
    }
   ],
   "source": [
    "is_anagram('I am lord voldemort', \"Tom Marvolo Riddle\")"
   ]
  },
  {
   "cell_type": "code",
   "execution_count": 7,
   "id": "ba759a96",
   "metadata": {},
   "outputs": [],
   "source": [
    "class Stack:\n",
    "    def __init__(self):\n",
    "        self.items = []\n",
    "    def is_empty(self):\n",
    "        return self.items == []\n",
    "    def push(self, item):\n",
    "        self.items.append(item)\n",
    "    def pop(self):\n",
    "        return self.items.pop()\n",
    "    def peek(self):\n",
    "        return self.items[len(self.items)-1]\n",
    "    def size(self):\n",
    "        return len(self.items)"
   ]
  },
  {
   "cell_type": "markdown",
   "id": "60078e5e",
   "metadata": {},
   "source": [
    "# use stack to reverse string"
   ]
  },
  {
   "cell_type": "code",
   "execution_count": 20,
   "id": "123a89f8",
   "metadata": {},
   "outputs": [],
   "source": [
    "class Stack:\n",
    "    def __init__(self):\n",
    "        self.items = []\n",
    "    def is_empty(self):\n",
    "        return self.items == []\n",
    "    def push(self, item):\n",
    "        self.items.append(item)\n",
    "    def pop(self):\n",
    "        return self.items.pop()\n",
    "    def peek(self):\n",
    "        return self.items[len(self.items)-1]\n",
    "    def size(self):\n",
    "        return len(self.items)\n",
    "\n",
    "def reverse_str(word):\n",
    "    stack = Stack()\n",
    "    for letter in word:\n",
    "        stack.push(letter)\n",
    "    _reversed = \"\"\n",
    "    while not stack.is_empty():\n",
    "        _reversed += stack.pop()\n",
    "    print(_reversed)\n",
    "    return _reversed\n",
    "        \n",
    "        "
   ]
  },
  {
   "cell_type": "code",
   "execution_count": 21,
   "id": "ad68f28d",
   "metadata": {},
   "outputs": [],
   "source": [
    "def test_reverse_str():\n",
    "    assert reverse_str(\"racecar\") == \"racecar\"\n",
    "    assert reverse_str(\"SDGKU\") == str(\"UKGDS\")\n",
    "    assert reverse_str(\"ping pong\") == str(\"gnop gnip\")"
   ]
  },
  {
   "cell_type": "code",
   "execution_count": 22,
   "id": "ae5d1b53",
   "metadata": {},
   "outputs": [
    {
     "name": "stdout",
     "output_type": "stream",
     "text": [
      "racecar\n",
      "UKGDS\n",
      "gnop gnip\n"
     ]
    }
   ],
   "source": [
    "test_reverse_str()"
   ]
  },
  {
   "cell_type": "code",
   "execution_count": 46,
   "id": "8c16e383",
   "metadata": {},
   "outputs": [],
   "source": []
  },
  {
   "cell_type": "code",
   "execution_count": null,
   "id": "67492ea0",
   "metadata": {},
   "outputs": [],
   "source": []
  },
  {
   "cell_type": "code",
   "execution_count": 27,
   "id": "887365e7",
   "metadata": {},
   "outputs": [],
   "source": [
    "from string import ascii_lowercase\n",
    "from random import randint, choice\n",
    "from time import sleep\n",
    "\n",
    "class Queue:\n",
    "    def __init__(self):\n",
    "        self.items = []\n",
    "    def is_empty(self):\n",
    "        return self.items == []\n",
    "    def enqueue(self, item):\n",
    "        self.items.insert(0, item)\n",
    "    def dequeue(self):\n",
    "        return self.items.pop()\n",
    "    def peek(self):\n",
    "        return self.items[len(self.items)-1]\n",
    "    def size(self):\n",
    "        return len(self.items)\n",
    "    \n",
    "def register_visitors(visitor_queue):\n",
    "    for char in ascii_lowercase:\n",
    "        visitor_queue.enqueue(char)\n",
    "    \n",
    "def service_customers(visitor_queue):\n",
    "    bank_tellers = [\"A\",\"B\",\"C\",\"D\",\"E\",\"F\",\"G\"]\n",
    "    while not visitor_queue.is_empty():\n",
    "        visitor = visitor_queue.dequeue()\n",
    "        print(\"Thank you for waiting %s, station %s is ready for you.\" % (visitor, choice(bank_tellers)))\n",
    "        sleep(randint(1,2))\n",
    "    print(\"Empty visitor queue\")\n",
    "    \n",
    "def main():\n",
    "    visitor_queue = Queue()\n",
    "    register_visitors(visitor_queue)\n",
    "    service_customers(visitor_queue)"
   ]
  },
  {
   "cell_type": "code",
   "execution_count": 28,
   "id": "fba8b3f7",
   "metadata": {
    "scrolled": true
   },
   "outputs": [
    {
     "name": "stdout",
     "output_type": "stream",
     "text": [
      "Thank you for waiting a, station F is ready for you.\n",
      "Thank you for waiting b, station F is ready for you.\n",
      "Thank you for waiting c, station B is ready for you.\n",
      "Thank you for waiting d, station G is ready for you.\n",
      "Thank you for waiting e, station C is ready for you.\n",
      "Thank you for waiting f, station F is ready for you.\n",
      "Thank you for waiting g, station A is ready for you.\n",
      "Thank you for waiting h, station D is ready for you.\n",
      "Thank you for waiting i, station B is ready for you.\n",
      "Thank you for waiting j, station B is ready for you.\n",
      "Thank you for waiting k, station G is ready for you.\n",
      "Thank you for waiting l, station C is ready for you.\n",
      "Thank you for waiting m, station D is ready for you.\n",
      "Thank you for waiting n, station A is ready for you.\n",
      "Thank you for waiting o, station G is ready for you.\n",
      "Thank you for waiting p, station B is ready for you.\n",
      "Thank you for waiting q, station C is ready for you.\n",
      "Thank you for waiting r, station A is ready for you.\n",
      "Thank you for waiting s, station E is ready for you.\n",
      "Thank you for waiting t, station A is ready for you.\n",
      "Thank you for waiting u, station G is ready for you.\n",
      "Thank you for waiting v, station F is ready for you.\n",
      "Thank you for waiting w, station C is ready for you.\n",
      "Thank you for waiting x, station G is ready for you.\n",
      "Thank you for waiting y, station D is ready for you.\n",
      "Thank you for waiting z, station B is ready for you.\n",
      "Empty visitor queue\n"
     ]
    }
   ],
   "source": [
    "main()"
   ]
  },
  {
   "cell_type": "code",
   "execution_count": 30,
   "id": "16364619",
   "metadata": {},
   "outputs": [],
   "source": [
    "def balance_check(str):\n",
    "    if len(str)%2 != 0:\n",
    "        return False\n",
    "    opening = set(\"([{\")\n",
    "    matches = set([\n",
    "        (\"(\", \")\"),\n",
    "         (\"[\", \"]\"),\n",
    "         (\"{\", \"}\")\n",
    "    ])\n",
    "    stack = Stack()  \n",
    "    for parent in s:\n",
    "        if paren in opening:\n",
    "            stack.push(paren)\n",
    "        else:\n",
    "            if stack.is_empty():\n",
    "                return False\n",
    "            last_open = stack.pop()\n",
    "            if (last_open, paren) not in matches:\n",
    "                return False\n",
    "    return stack_is_empty()\n",
    "            \n",
    "                                              "
   ]
  },
  {
   "cell_type": "code",
   "execution_count": null,
   "id": "36ae1b4a",
   "metadata": {},
   "outputs": [],
   "source": []
  }
 ],
 "metadata": {
  "kernelspec": {
   "display_name": "Python 3",
   "language": "python",
   "name": "python3"
  },
  "language_info": {
   "codemirror_mode": {
    "name": "ipython",
    "version": 3
   },
   "file_extension": ".py",
   "mimetype": "text/x-python",
   "name": "python",
   "nbconvert_exporter": "python",
   "pygments_lexer": "ipython3",
   "version": "3.9.5"
  }
 },
 "nbformat": 4,
 "nbformat_minor": 5
}
